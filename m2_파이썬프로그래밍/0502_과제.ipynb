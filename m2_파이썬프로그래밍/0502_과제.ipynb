{
  "nbformat": 4,
  "nbformat_minor": 0,
  "metadata": {
    "colab": {
      "provenance": [],
      "authorship_tag": "ABX9TyMuZgCi6r1DklCKlpqJz6kc",
      "include_colab_link": true
    },
    "kernelspec": {
      "name": "python3",
      "display_name": "Python 3"
    },
    "language_info": {
      "name": "python"
    }
  },
  "cells": [
    {
      "cell_type": "markdown",
      "metadata": {
        "id": "view-in-github",
        "colab_type": "text"
      },
      "source": [
        "<a href=\"https://colab.research.google.com/github/sojiseung/STT-Project-1/blob/master/m2_%ED%8C%8C%EC%9D%B4%EC%8D%AC%ED%94%84%EB%A1%9C%EA%B7%B8%EB%9E%98%EB%B0%8D/0502_%EA%B3%BC%EC%A0%9C.ipynb\" target=\"_parent\"><img src=\"https://colab.research.google.com/assets/colab-badge.svg\" alt=\"Open In Colab\"/></a>"
      ]
    },
    {
      "cell_type": "markdown",
      "source": [
        "제어문(control statement)은 프로그램의 흐름을 제어하는데 사용\n",
        "\n",
        "#### 조건문 (Conditional Statements):\n",
        "- if: 특정 조건이 참(True)일 때 코드 블록을 실행\n",
        "    - 조건은 비교 연산자(==, !=, <, >, <=, >=)와 논리 연산자(and, or, not)를 사용하여 표현할 수 있다\n",
        "- elif: 이전의 if 또는 elif 조건이 거짓(False)일 때 다른 조건을 검사\n",
        "    - elif는 'else if'의 축약형으로, 이전 if 또는 elif 문의 조건이 거짓(False)일 때 다른 조건을 검사\n",
        "    - 여러 elif 문을 사용하여 다양한 조건을 검사할 수 있다\n",
        "- else:\n",
        "    - 이전의 if 또는 elif 문의 조건이 모두 거짓일 때 실행할 코드 블록을 지정"
      ],
      "metadata": {
        "id": "-fveon_Y8QZD"
      }
    },
    {
      "cell_type": "code",
      "execution_count": null,
      "metadata": {
        "colab": {
          "base_uri": "https://localhost:8080/"
        },
        "id": "kELOXKWn8Eja",
        "outputId": "ad715d8e-381f-46ba-97a1-1904cad55132"
      },
      "outputs": [
        {
          "output_type": "stream",
          "name": "stdout",
          "text": [
            "x는 5보다 큽니다.\n"
          ]
        }
      ],
      "source": [
        "x = 10\n",
        "if x > 5:\n",
        "    print('x는 5보다 큽니다.')\n",
        "elif x == 5:\n",
        "    print('x는 5입니다.')\n",
        "else:\n",
        "    print('x는 5보다 작습니다.')"
      ]
    },
    {
      "cell_type": "code",
      "source": [
        "x = 10\n",
        "if x >= 5:\n",
        "    print('x는 5보다 크거나 같습니다.')\n",
        "else :\n",
        "    print('x는 5보다 작습니다.')"
      ],
      "metadata": {
        "colab": {
          "base_uri": "https://localhost:8080/"
        },
        "id": "70B70AX_RjXn",
        "outputId": "8a2afdb2-2515-4353-d415-d0cf52d0f17c"
      },
      "execution_count": null,
      "outputs": [
        {
          "output_type": "stream",
          "name": "stdout",
          "text": [
            "x는 5보다 크거나 같습니다.\n"
          ]
        }
      ]
    },
    {
      "cell_type": "code",
      "source": [
        "# 각 조건이 서로 독립적일때 if문을 연속해서 사용\n",
        "x = 10\n",
        "y = 5\n",
        "\n",
        "if x > 5:\n",
        "    print('x는 5보다 큽니다.')\n",
        "\n",
        "if y < 10:\n",
        "    print('y는 10보다 작습니다.')\n",
        "\n",
        "if x > y:\n",
        "    print('x는 y보다 큽니다.')"
      ],
      "metadata": {
        "colab": {
          "base_uri": "https://localhost:8080/"
        },
        "id": "E6PDc3jNR8ht",
        "outputId": "5fa341d3-f84f-4699-865d-43a18f2b9577"
      },
      "execution_count": null,
      "outputs": [
        {
          "output_type": "stream",
          "name": "stdout",
          "text": [
            "x는 5보다 큽니다.\n",
            "y는 10보다 작습니다.\n",
            "x는 y보다 큽니다.\n"
          ]
        }
      ]
    },
    {
      "cell_type": "code",
      "source": [
        "x = 10\n",
        "y =5\n",
        "if x > 5:\n",
        "  if y >= 3:\n",
        "      print('x는 5보다 크고 y는 3보다 크거나 같습니다.')\n",
        "  else :\n",
        "      print('x는 5보다 크고 y는 3보다 작습니다.')\n",
        "else :\n",
        "  print('x는 5보다 작거나 같습니다.')"
      ],
      "metadata": {
        "colab": {
          "base_uri": "https://localhost:8080/"
        },
        "id": "wUoYi6skS8zh",
        "outputId": "8c5cc12c-cf7e-4c38-ad4e-02b4135b10c6"
      },
      "execution_count": null,
      "outputs": [
        {
          "output_type": "stream",
          "name": "stdout",
          "text": [
            "x는 5보다 크고 y는 3보다 크거나 같습니다.\n"
          ]
        }
      ]
    },
    {
      "cell_type": "code",
      "source": [
        "# 이중 조건문을 사용하여 코드를 작성하세요.(조건 내용은 자유. 단, if문 if ~else 중첩하여 사용)\n",
        "score = int(input('점수를 입력하세요 : '))\n",
        "\n",
        "if score >= 90:\n",
        "  if score >= 95:\n",
        "      print('A+')\n",
        "  else:\n",
        "      print('A')\n",
        "elif score >= 80:\n",
        "    if score >= 85:\n",
        "      print('B+')\n",
        "    else :\n",
        "      print('B')\n",
        "elif score >= 70:\n",
        "    if score >= 75:\n",
        "      print('C+')\n",
        "    else :\n",
        "      print('C')\n",
        "elif score >= 70:\n",
        "    if score >= 75:\n",
        "      print('D+')\n",
        "    else :\n",
        "      print('D')\n",
        "else :\n",
        "    print('F')"
      ],
      "metadata": {
        "id": "hkkLwVzYUNpr"
      },
      "execution_count": null,
      "outputs": []
    },
    {
      "cell_type": "code",
      "source": [
        "# 70점 이상만 채점\n",
        "\n",
        "score = int(input('점수를 입력하세요 : '))\n",
        "if score < 70:\n",
        "  print(\"성적 미달 채점 X\")\n",
        "else :\n",
        "  if score >= 90:\n",
        "    if score >= 95:\n",
        "        print('A+')\n",
        "    else:\n",
        "        print('A')\n",
        "  elif score >= 80:\n",
        "      if score >= 85:\n",
        "        print('B+')\n",
        "      else :\n",
        "        print('B')\n",
        "  else :\n",
        "      print('C')"
      ],
      "metadata": {
        "colab": {
          "base_uri": "https://localhost:8080/"
        },
        "id": "EMzUAOhtXWIv",
        "outputId": "97a40ebe-84aa-4859-a694-91046630fd21"
      },
      "execution_count": null,
      "outputs": [
        {
          "output_type": "stream",
          "name": "stdout",
          "text": [
            "점수를 입력하세요 : 75\n",
            "C\n"
          ]
        }
      ]
    },
    {
      "cell_type": "code",
      "source": [
        "# Q. listdata = ['a', 'b', 'c']\n",
        "listdata = ['a', 'b', 'c']\n",
        "for i in listdata:\n",
        "    if i in listdata:\n",
        "      print(f'{i}가 listdata에 있습니다.')\n"
      ],
      "metadata": {
        "colab": {
          "base_uri": "https://localhost:8080/"
        },
        "id": "LYkvZDuYYQfz",
        "outputId": "6185ad08-860b-4fe1-859b-490ddecda32e"
      },
      "execution_count": null,
      "outputs": [
        {
          "output_type": "stream",
          "name": "stdout",
          "text": [
            "a가 listdata에 있습니다.\n",
            "b가 listdata에 있습니다.\n",
            "c가 listdata에 있습니다.\n"
          ]
        }
      ]
    },
    {
      "cell_type": "code",
      "source": [
        "# Q. 주머니에 돈이 10000원 이상 있으면 택시를 타고, 돈이 없으면 걸어 간다를 만족하는 조건문을 작성하세요.\n",
        "money = int(input('주머니에 있는 돈이 얼마인지 써주세요 :'))\n",
        "\n",
        "if money >= 10000:\n",
        "    print('택시에 탑승해 주세요.')\n",
        "else :\n",
        "    print('그냥 걸어가세요.')"
      ],
      "metadata": {
        "colab": {
          "base_uri": "https://localhost:8080/"
        },
        "id": "oMERLhxaZ-BC",
        "outputId": "d3cde6be-29e5-4762-9b4b-44e43504f87e"
      },
      "execution_count": null,
      "outputs": [
        {
          "output_type": "stream",
          "name": "stdout",
          "text": [
            "주머니에 있는 돈이 얼마인지 써주세요 :200\n",
            "그냥 걸어가세요.\n"
          ]
        }
      ]
    },
    {
      "cell_type": "code",
      "source": [
        "# Q. 조건부 표현식을 한줄의 조건문으로 작성하세요.\n",
        "score = 70\n",
        "if score >= 60:\n",
        "    message = 'success'\n",
        "else:\n",
        "    message = 'failure'\n",
        "\n",
        "print(message)"
      ],
      "metadata": {
        "colab": {
          "base_uri": "https://localhost:8080/"
        },
        "id": "w5TadFqTe9Op",
        "outputId": "71b05d17-ac11-4175-a624-0b6c96816aaa"
      },
      "execution_count": null,
      "outputs": [
        {
          "output_type": "stream",
          "name": "stdout",
          "text": [
            "success\n"
          ]
        }
      ]
    },
    {
      "cell_type": "code",
      "source": [
        "score = 70\n",
        "['success' if score >= 60 else 'failure']"
      ],
      "metadata": {
        "colab": {
          "base_uri": "https://localhost:8080/"
        },
        "id": "fd0MSMTKfjQL",
        "outputId": "87807dae-531d-44ec-ba22-6b14117a9e8e"
      },
      "execution_count": null,
      "outputs": [
        {
          "output_type": "execute_result",
          "data": {
            "text/plain": [
              "['success']"
            ]
          },
          "metadata": {},
          "execution_count": 18
        }
      ]
    },
    {
      "cell_type": "code",
      "source": [
        "# Q. '수입(income)과 지출(spend)을 비교해서 수입이 많으면 저축 증가, 반대이면 빚이 증가' 프로그램 작성\n",
        "income = int(input('수입을 써주세요 : '))\n",
        "spend = int(input('지출을 써주세요 :'))\n",
        "\n",
        "if income >= spend:\n",
        "    if income > spend:\n",
        "        print('저축 증가')\n",
        "    else :\n",
        "        print('아무것도 없음')\n",
        "else :\n",
        "    print('빚이 증가')"
      ],
      "metadata": {
        "colab": {
          "base_uri": "https://localhost:8080/"
        },
        "id": "qMRNokg4gJts",
        "outputId": "a7404802-3839-45a6-93cd-90c0a4371d5c"
      },
      "execution_count": null,
      "outputs": [
        {
          "output_type": "stream",
          "name": "stdout",
          "text": [
            "수입을 써주세요 : 1200\n",
            "지출을 써주세요 :1000\n",
            "저축 증가\n"
          ]
        }
      ]
    },
    {
      "cell_type": "markdown",
      "source": [
        "#### 반복문 (Loop Statements):\n",
        "- for: 시퀀스(리스트, 튜플, 문자열 등)의 아이템을 순회하면서 코드 블록을 실행\n",
        "- while: 특정 조건이 참인 동안 코드 블록을 반복하여 실행"
      ],
      "metadata": {
        "id": "7SH2ui2NhtD6"
      }
    },
    {
      "cell_type": "code",
      "source": [
        "# for 루프는 시퀀스(리스트, 튜플, 문자열 등)나 반복 가능한 객체(iterable)의 요소를 순화\n",
        "\n",
        "for i in range(5):\n",
        "    print(i, end=' ')\n",
        "print('\\n')\n",
        "count = 0\n",
        "while count < 5:\n",
        "    print(count, end=' ')\n",
        "    count += 1"
      ],
      "metadata": {
        "colab": {
          "base_uri": "https://localhost:8080/"
        },
        "id": "-0zlEZ_LiBXH",
        "outputId": "bc280878-2ee3-4577-ae16-5a331b12424e"
      },
      "execution_count": null,
      "outputs": [
        {
          "output_type": "stream",
          "name": "stdout",
          "text": [
            "0 1 2 3 4 \n",
            "\n",
            "0 1 2 3 4 "
          ]
        }
      ]
    },
    {
      "cell_type": "code",
      "source": [
        "# 리스트를 순회하는 예\n",
        "for i in [1, 2, 3, 4, 5]:\n",
        "    print(i,end=' ')\n",
        "print('\\n')\n",
        "\n",
        "# 문자열을 순회하는 예\n",
        "for char in 'hello':\n",
        "   print(char,end=' ')\n"
      ],
      "metadata": {
        "colab": {
          "base_uri": "https://localhost:8080/"
        },
        "id": "Yz7nCCEVk-po",
        "outputId": "e553ba2a-968c-4d55-add2-c70caed016e4"
      },
      "execution_count": null,
      "outputs": [
        {
          "output_type": "stream",
          "name": "stdout",
          "text": [
            "1 2 3 4 5 \n",
            "\n",
            "h e l l o "
          ]
        }
      ]
    },
    {
      "cell_type": "code",
      "source": [
        "# while 루프는 주어진 조건이 참(True)인 동안 코드 블록을 반복\n",
        "# 조건이 거짓(False)이 되면 루프가 종료\n",
        "count = 0\n",
        "sum = 0\n",
        "while count < 5:\n",
        "    sum += count\n",
        "    print(sum,end=' ')\n",
        "    count += 1"
      ],
      "metadata": {
        "colab": {
          "base_uri": "https://localhost:8080/"
        },
        "id": "X9PvS-NylksE",
        "outputId": "eb3694a6-a74f-4cd9-c823-30ebf0709d6c"
      },
      "execution_count": null,
      "outputs": [
        {
          "output_type": "stream",
          "name": "stdout",
          "text": [
            "0 1 3 6 10 "
          ]
        }
      ]
    },
    {
      "cell_type": "code",
      "source": [
        "# Q. d에서 반복문을 사용하여 97 98 99 을 출력하세요.\n",
        "d = {'a':97, 'b':98, 'c':99}\n",
        "\n",
        "for i in d:\n",
        "    print(d[i], end=' ')"
      ],
      "metadata": {
        "colab": {
          "base_uri": "https://localhost:8080/"
        },
        "id": "09WEzvWpmuGR",
        "outputId": "9ac41ec2-27ff-4899-c4e3-13e9c6b78f25"
      },
      "execution_count": null,
      "outputs": [
        {
          "output_type": "stream",
          "name": "stdout",
          "text": [
            "97 98 99 "
          ]
        }
      ]
    },
    {
      "cell_type": "markdown",
      "source": [
        "dict_values 클래스의 이해:\n",
        "- 클래스 정의: 파이썬에서 클래스는 객체를 생성하는 데 사용되는 템플릿. dict_values는 딕셔너리의 값을 보여주는 뷰 객체를 생성하는 특별한 내장 클래스.\n",
        "- 뷰 객체: dict_values 객체는 딕셔너리의 값에 대한 동적인 뷰를 제공. \"뷰(view)\"란 원본 딕셔너리 객체의 값이 변하면 그 변화가 dict_values 객체에도 반영되는, 원본 데이터의 실시간 반영본을 의미. 이는 딕셔너리의 값들이 수정, 추가, 삭제될 때 dict_values 객체가 자동으로 업데이트된다는 의미.\n",
        "- 객체 인스턴스: dict_values 객체는 dict_values 클래스의 인스턴스. 이 클래스는 파이썬의 다른 모든 클래스처럼 특정 데이터 구조와 메서드를 가진다. 예를 들어, dict_values 객체는 순회 가능하며 (iterable), 딕셔너리의 모든 값을 순차적으로 접근할 수 있는 메서드를 제공."
      ],
      "metadata": {
        "id": "27CTwGrOxoCf"
      }
    },
    {
      "cell_type": "code",
      "source": [
        "d['b'] = 100\n",
        "print(d)\n",
        "print(d.values())"
      ],
      "metadata": {
        "colab": {
          "base_uri": "https://localhost:8080/"
        },
        "id": "JAs5A124ycar",
        "outputId": "7d837700-ca20-48a0-9a33-9e99755c3c04"
      },
      "execution_count": null,
      "outputs": [
        {
          "output_type": "stream",
          "name": "stdout",
          "text": [
            "{'a': 97, 'b': 100, 'c': 99}\n",
            "dict_values([97, 100, 99])\n"
          ]
        }
      ]
    },
    {
      "cell_type": "markdown",
      "source": [
        "#### 제어문 관련 키워드:\n",
        "- break: 현재의 반복문을 중단하고, 반복문 바깥의 코드를 실행\n",
        "- continue: 반복문의 나머지 부분을 건너뛰고, 다음 반복을 시작"
      ],
      "metadata": {
        "id": "1dtVRiCty1Md"
      }
    },
    {
      "cell_type": "code",
      "source": [
        "for i in range(5):\n",
        "    if i == 3:\n",
        "        break\n",
        "    print(i,end=' ')\n",
        "print('\\n')\n",
        "\n",
        "for i in range(5):\n",
        "    if i == 3:\n",
        "        continue\n",
        "    print(i,end=' ')"
      ],
      "metadata": {
        "colab": {
          "base_uri": "https://localhost:8080/"
        },
        "id": "SNt6RiSAy2iz",
        "outputId": "dba1cd7c-98a7-439a-eb88-93d6fac8bd1d"
      },
      "execution_count": null,
      "outputs": [
        {
          "output_type": "stream",
          "name": "stdout",
          "text": [
            "0 1 2 \n",
            "\n",
            "0 1 2 4 "
          ]
        }
      ]
    },
    {
      "cell_type": "code",
      "source": [
        "for i in range(10):\n",
        "    if i == 5:\n",
        "        break # i가 5일 때 루프를 종료합니다.\n",
        "    print(i,end = ' ')\n",
        "print('\\n')\n",
        "\n",
        "for i in range(10):\n",
        "    if i % 2 == 0:\n",
        "        continue  # i가 짝수일 떄 나머지 부분을 건너뛰고 다음 반복을 시작합니다.\n",
        "    print(i, end = ' ')"
      ],
      "metadata": {
        "colab": {
          "base_uri": "https://localhost:8080/"
        },
        "id": "KGTZpUPq0WPw",
        "outputId": "d707fe8d-fa27-4909-b597-5042893410f2"
      },
      "execution_count": null,
      "outputs": [
        {
          "output_type": "stream",
          "name": "stdout",
          "text": [
            "0 1 2 3 4 \n",
            "\n",
            "1 3 5 7 9 "
          ]
        }
      ]
    },
    {
      "cell_type": "code",
      "source": [
        "# for 또는 while 루프에 else 절을 사용하면, 루프가 정상적으로 완료된 후에 실행할\n",
        "for i in range(5):\n",
        "    print(i, end = ' ')\n",
        "else :\n",
        "    print('루프가 완료되었습니다.','\\n')\n",
        "\n",
        "count = 0\n",
        "while count < 5:\n",
        "    print(count, end =' ')\n",
        "    count += 1\n",
        "else:\n",
        "    print('루프가 완료되었습니다.')"
      ],
      "metadata": {
        "colab": {
          "base_uri": "https://localhost:8080/"
        },
        "id": "8fo3Z2qg1w-w",
        "outputId": "46e68e5c-5b59-4364-9cb7-787f3ed01c32"
      },
      "execution_count": null,
      "outputs": [
        {
          "output_type": "stream",
          "name": "stdout",
          "text": [
            "0 1 2 3 4 루프가 완료되었습니다. \n",
            "\n",
            "0 1 2 3 4 루프가 완료되었습니다.\n"
          ]
        }
      ]
    },
    {
      "cell_type": "code",
      "source": [
        "# break 문을 사용하여 루프를 중단하면 else 절은 실행되지 않음\n",
        "for i in range(5):\n",
        "    if i == 3:\n",
        "        print('루프를 중단합니다.')\n",
        "        break\n",
        "else :\n",
        "  print('루프가 정상적으로 완료되었습니다.')\n",
        "\n",
        "# 출력:\n",
        "# 3에서 루프를 중단합니다."
      ],
      "metadata": {
        "colab": {
          "base_uri": "https://localhost:8080/"
        },
        "id": "Es-swT8-3Am2",
        "outputId": "45a40e29-068e-44bb-f2fe-ceb61eee6d7d"
      },
      "execution_count": null,
      "outputs": [
        {
          "output_type": "stream",
          "name": "stdout",
          "text": [
            "루프를 중단합니다.\n"
          ]
        }
      ]
    },
    {
      "cell_type": "markdown",
      "source": [
        "# 조건과 반복을 결합"
      ],
      "metadata": {
        "id": "V-Z5A7FU3reE"
      }
    },
    {
      "cell_type": "code",
      "source": [
        "# 홀수만 출력\n",
        "for i in range(10):\n",
        "    if i % 2 != 0:\n",
        "        print(i,end = ' ')"
      ],
      "metadata": {
        "colab": {
          "base_uri": "https://localhost:8080/"
        },
        "id": "HWC3Kbgg36eA",
        "outputId": "4fe145c6-deae-4f3e-9c1b-93d7a843f48a"
      },
      "execution_count": null,
      "outputs": [
        {
          "output_type": "stream",
          "name": "stdout",
          "text": [
            "1 3 5 7 9 "
          ]
        }
      ]
    },
    {
      "cell_type": "code",
      "source": [
        "# Q. 1~10 범위의 정수에서 1부터 5까지만 출력하세요.\n",
        "for i in range(10):\n",
        "    if i == 0:\n",
        "        continue\n",
        "    elif i < 6:\n",
        "        print(i,end = ' ')\n",
        "    else :\n",
        "        break"
      ],
      "metadata": {
        "colab": {
          "base_uri": "https://localhost:8080/"
        },
        "id": "e7ZTh-7K4SJg",
        "outputId": "ca9bb9d4-6910-4b89-b329-9ca2b583751b"
      },
      "execution_count": null,
      "outputs": [
        {
          "output_type": "stream",
          "name": "stdout",
          "text": [
            "1 2 3 4 5 "
          ]
        }
      ]
    },
    {
      "cell_type": "code",
      "source": [
        "for i in range (1, 11):\n",
        "    if i > 5:\n",
        "        break\n",
        "    print(i,end = ' ')"
      ],
      "metadata": {
        "colab": {
          "base_uri": "https://localhost:8080/"
        },
        "id": "C1L9-B7M5Pw0",
        "outputId": "97b8521a-9ab2-49c3-a7e4-920a123ce32d"
      },
      "execution_count": null,
      "outputs": [
        {
          "output_type": "stream",
          "name": "stdout",
          "text": [
            "1 2 3 4 5 "
          ]
        }
      ]
    },
    {
      "cell_type": "code",
      "source": [
        "# Q, numbers 리스트에서 15,20,25를 출력하세요.(for문과 if 조건 사용 필수)\n",
        "numbers = [5, 15, 6, 20, 7, 25]\n",
        "\n",
        "for i in numbers:\n",
        "    if i == 15 or i == 20 or i == 25:\n",
        "        print(i, end= ' ')"
      ],
      "metadata": {
        "colab": {
          "base_uri": "https://localhost:8080/"
        },
        "id": "uVDZ4T2j5gA7",
        "outputId": "ec322bd8-99fa-42a9-ad7d-e2956ba921c3"
      },
      "execution_count": null,
      "outputs": [
        {
          "output_type": "stream",
          "name": "stdout",
          "text": [
            "15 20 25 "
          ]
        }
      ]
    },
    {
      "cell_type": "code",
      "source": [
        "numbers = [5, 15, 6, 20, 7, 25]\n",
        "\n",
        "for i in numbers:\n",
        "    #if i > 5 and i%5 == 0:\n",
        "    if i >= 15:\n",
        "        print(i, end = ' ')"
      ],
      "metadata": {
        "colab": {
          "base_uri": "https://localhost:8080/"
        },
        "id": "bDt1p0I69yqX",
        "outputId": "49a4f9bf-ca8d-4725-8fff-f451ac03d415"
      },
      "execution_count": null,
      "outputs": [
        {
          "output_type": "stream",
          "name": "stdout",
          "text": [
            "15 20 25 "
          ]
        }
      ]
    },
    {
      "cell_type": "code",
      "source": [
        "# 특정 조건을 만족할 때까지 반복\n",
        "count = 0\n",
        "while 1:  # 무한 루프\n",
        "    count += 1\n",
        "    if count > 5:\n",
        "        break # count가 5보다 클 때 루프를 종료합니다.\n",
        "    print(count, end = \" \")\n",
        "    print('루프가 종료됨')"
      ],
      "metadata": {
        "colab": {
          "base_uri": "https://localhost:8080/"
        },
        "id": "Yv0akJyx-O6X",
        "outputId": "624f51ec-2b9f-4ea6-e837-4c72ef22d4e9"
      },
      "execution_count": null,
      "outputs": [
        {
          "output_type": "stream",
          "name": "stdout",
          "text": [
            "1 2 3 4 5 "
          ]
        }
      ]
    },
    {
      "cell_type": "code",
      "source": [
        "# Q. 리스트에서 특정값을 찾으면 '값을 찾았습니다.'를 출력하고 못찾으면 '값을 찾지 못했습니다.'를 출력하세요.\n",
        "numbers = [1, 2, 3, 4, 5]\n",
        "target = 3\n",
        "\n",
        "for i in numbers:\n",
        "    if i == target:\n",
        "        print(f'{target}을(를) 찾았습니다.')\n",
        "        break\n",
        "else :\n",
        "    print(f'{target}을(를) 못찾았습니다.')\n",
        "\n",
        "# print(f'{target}을(를) 찾지 못했습니다.')"
      ],
      "metadata": {
        "colab": {
          "base_uri": "https://localhost:8080/"
        },
        "id": "rDmnDfo4-6Su",
        "outputId": "d8e958a7-7447-4887-bfb7-3b7f43af8688"
      },
      "execution_count": null,
      "outputs": [
        {
          "output_type": "stream",
          "name": "stdout",
          "text": [
            "3을(를) 찾았습니다.\n"
          ]
        }
      ]
    },
    {
      "cell_type": "code",
      "source": [
        "# Q. 1 ~ 20 사이의 정수에서 10보다 작은 홀수만 출력\n",
        "for i in range(1, 21):\n",
        "    if i < 10 and i % 2 != 0:\n",
        "        print(i, end = ' ')"
      ],
      "metadata": {
        "colab": {
          "base_uri": "https://localhost:8080/"
        },
        "id": "sdjoYkVjCqxS",
        "outputId": "73d44b4e-2ec2-41be-ce49-980ac4789e57"
      },
      "execution_count": null,
      "outputs": [
        {
          "output_type": "stream",
          "name": "stdout",
          "text": [
            "1 3 5 7 9 "
          ]
        }
      ]
    },
    {
      "cell_type": "code",
      "source": [
        "for i in range(1,21):\n",
        "    if i < 10:\n",
        "      if i % 2 != 0:\n",
        "          print(i,end = ' ')\n",
        "    else:\n",
        "        break"
      ],
      "metadata": {
        "colab": {
          "base_uri": "https://localhost:8080/"
        },
        "id": "WIK7MayEEHHJ",
        "outputId": "5b66c1e1-772b-4e12-9349-ed3bd8365538"
      },
      "execution_count": null,
      "outputs": [
        {
          "output_type": "stream",
          "name": "stdout",
          "text": [
            "1 3 5 7 9 "
          ]
        }
      ]
    },
    {
      "cell_type": "code",
      "source": [
        "#while ~ continue ~ break\n",
        "# 20보다 작은 정수에서 1 3 5 7 9 만을 출력\n",
        "a = 0\n",
        "while a < 20:\n",
        "  a += 1\n",
        "  if a % 2 == 0:\n",
        "      continue\n",
        "  if a >= 10:\n",
        "      break\n",
        "  print(a,end = ' ')"
      ],
      "metadata": {
        "colab": {
          "base_uri": "https://localhost:8080/"
        },
        "id": "CqpYmahfEZN0",
        "outputId": "a856840a-70dc-4d56-ffe9-149c288b9916"
      },
      "execution_count": null,
      "outputs": [
        {
          "output_type": "stream",
          "name": "stdout",
          "text": [
            "1 3 5 7 9 "
          ]
        }
      ]
    },
    {
      "cell_type": "code",
      "source": [
        "# Q. 정수 1부터 n까지 더할 때 그 합이 1000보다 커지게 되는 n과 합을 구하세요.(while ~ braek)\n",
        "x = 0\n",
        "sum = 0\n",
        "while 1:\n",
        "    x = x + 1\n",
        "    sum += x\n",
        "    if sum > 1000:\n",
        "      print(x)\n",
        "      print(sum)\n",
        "      break"
      ],
      "metadata": {
        "colab": {
          "base_uri": "https://localhost:8080/"
        },
        "id": "3UK-hVuZFkIM",
        "outputId": "6bdbc083-5d8f-4b33-8efc-12c1243d04ce"
      },
      "execution_count": null,
      "outputs": [
        {
          "output_type": "stream",
          "name": "stdout",
          "text": [
            "45\n",
            "1035\n"
          ]
        }
      ]
    },
    {
      "cell_type": "code",
      "source": [
        "x = 0\n",
        "sum = 0\n",
        "while sum < 1000:\n",
        "    x += 1\n",
        "    sum += x\n",
        "print(x)\n",
        "print(sum)"
      ],
      "metadata": {
        "colab": {
          "base_uri": "https://localhost:8080/"
        },
        "id": "4Kcn35BdbnSh",
        "outputId": "d2c1feaf-cd08-4c21-d5c4-ed50c6e41c00"
      },
      "execution_count": null,
      "outputs": [
        {
          "output_type": "stream",
          "name": "stdout",
          "text": [
            "45\n",
            "1035\n"
          ]
        }
      ]
    },
    {
      "cell_type": "code",
      "source": [
        "# Q. while문을 사용해 1부터 1000까지의 정수 중 3의 배수의 합을 구해 보세요.\n",
        "x = 0\n",
        "count = 0\n",
        "while 1:\n",
        "  count += 1\n",
        "  if count < 1001:\n",
        "    if count % 3 == 0:\n",
        "      x += count\n",
        "  if count > 1000:\n",
        "    break\n",
        "\n",
        "print(x)"
      ],
      "metadata": {
        "colab": {
          "base_uri": "https://localhost:8080/"
        },
        "id": "UPAbPftgFtnA",
        "outputId": "83eb22a9-2936-48ac-98d2-21ee92ceea54"
      },
      "execution_count": null,
      "outputs": [
        {
          "output_type": "stream",
          "name": "stdout",
          "text": [
            "166833\n"
          ]
        }
      ]
    },
    {
      "cell_type": "code",
      "source": [
        "count = 1\n",
        "x = 0\n",
        "while count <= 1000:\n",
        "  if count % 3 == 0:\n",
        "    x += count\n",
        "  count += 1\n",
        "print(x)"
      ],
      "metadata": {
        "colab": {
          "base_uri": "https://localhost:8080/"
        },
        "id": "syEOa0HEdcMs",
        "outputId": "185ccee3-5b22-4249-986a-f547952f4003"
      },
      "execution_count": null,
      "outputs": [
        {
          "output_type": "stream",
          "name": "stdout",
          "text": [
            "166833\n"
          ]
        }
      ]
    },
    {
      "cell_type": "code",
      "source": [
        "n = 3\n",
        "sum = 0\n",
        "while n <= 1000:\n",
        "    sum += n\n",
        "    n += 3\n",
        "print(sum)"
      ],
      "metadata": {
        "colab": {
          "base_uri": "https://localhost:8080/"
        },
        "id": "fzrG_Mm1fMhl",
        "outputId": "1600d983-b8e9-4e8a-c57a-211146c3f003"
      },
      "execution_count": null,
      "outputs": [
        {
          "output_type": "stream",
          "name": "stdout",
          "text": [
            "166833\n"
          ]
        }
      ]
    },
    {
      "cell_type": "code",
      "source": [
        "# Q. 정수를 입력하면 홀수 짝수를 판별하는 프로그램 작성\n",
        "num = int(input('정수를 입력하세요.'))\n",
        "\n",
        "if num == 0:\n",
        "    print('0 입니다.')\n",
        "elif num % 2 == 0:\n",
        "    print('짝수 입니다.')\n",
        "else:\n",
        "    print('홀수 입니다.')"
      ],
      "metadata": {
        "colab": {
          "base_uri": "https://localhost:8080/"
        },
        "id": "yNiOcuScF4IW",
        "outputId": "2653cae8-5a1c-4d95-f249-6100244a5801"
      },
      "execution_count": null,
      "outputs": [
        {
          "output_type": "stream",
          "name": "stdout",
          "text": [
            "정수를 입력하세요.0\n",
            "0 입니다.\n"
          ]
        }
      ]
    },
    {
      "cell_type": "code",
      "source": [
        "while True:\n",
        "  try:\n",
        "    num = int(input('정수를 입력하세요.'))\n",
        "\n",
        "    if num%2 == 1:\n",
        "        print(f'입력한 숫자 {num}는 홀수 입니다.')\n",
        "    else :\n",
        "        print(f'입력한 숫자 {num}는 짝수 입니다.')\n",
        "    break # 정수 입력 시 while 루프를 빠져나감\n",
        "  except ValueError:\n",
        "      print('잘못 입력 하셨어요 다시 입력 해주세요.')"
      ],
      "metadata": {
        "colab": {
          "base_uri": "https://localhost:8080/"
        },
        "id": "Dw91IJPYfud8",
        "outputId": "37e371c9-07c9-4d41-d42a-a9a2f045ae06"
      },
      "execution_count": null,
      "outputs": [
        {
          "output_type": "stream",
          "name": "stdout",
          "text": [
            "정수를 입력하세요.20\n",
            "입력한 숫자 20는 짝수 입니다.\n"
          ]
        }
      ]
    },
    {
      "cell_type": "code",
      "source": [
        "# Q. 입력받은 문자열의 각 문자를 그 다음 문자로 변경하여 출력하세요.(ABC -> BCA)\n",
        "data = input('문자열을 입력해주세요.')\n",
        "for i in range(len(data)):\n",
        "    if i == 0:\n",
        "      continue\n",
        "    print(data[i],end = '')\n",
        "else :\n",
        "    print(data[0])"
      ],
      "metadata": {
        "colab": {
          "base_uri": "https://localhost:8080/"
        },
        "id": "_-BzOOb6jDTA",
        "outputId": "33c6f5f6-ed0e-46ef-8d2a-d0819ef21a36"
      },
      "execution_count": null,
      "outputs": [
        {
          "output_type": "stream",
          "name": "stdout",
          "text": [
            "문자열을 입력해주세요.kingkong\n",
            "ingkongk\n"
          ]
        }
      ]
    },
    {
      "cell_type": "markdown",
      "source": [
        "zip() 함수\n",
        "- 여러 개의 이터러블(리스트, 튜플 등)을 인자로 받아, 동일한 인덱스에 있는 요소들을 하나의 튜플로 묶어서 이터레이터를 반환\n",
        "- 데이터를 병렬로 처리할 때 유용"
      ],
      "metadata": {
        "id": "y1tsSdOunH4Q"
      }
    },
    {
      "cell_type": "code",
      "source": [
        "list1 = [1, 2, 3, 4]\n",
        "list2 = ['a', 'b', 'c', 'd']\n",
        "zipped = zip(list1, list2)\n",
        "print(list(zipped))"
      ],
      "metadata": {
        "colab": {
          "base_uri": "https://localhost:8080/"
        },
        "id": "dBjiED19nJA4",
        "outputId": "d87b8fbc-37c0-412a-ac59-425f5553399e"
      },
      "execution_count": null,
      "outputs": [
        {
          "output_type": "stream",
          "name": "stdout",
          "text": [
            "[(1, 'a'), (2, 'b'), (3, 'c'), (4, 'd')]\n"
          ]
        }
      ]
    },
    {
      "cell_type": "code",
      "source": [
        "# Q. 두 개의 리스트(이름과 성)를 사용하여 각 사람의 전체 이름을 생성하세요.\n",
        "f_names = ['John', 'jane', 'Corey', 'Travis']\n",
        "l_names = ['Doe', 'Smith', 'Turner', 'Villiams']\n",
        "\n",
        "name = [first + ' ' + last for first, last in zip(f_names, l_names)]\n",
        "print(name)"
      ],
      "metadata": {
        "colab": {
          "base_uri": "https://localhost:8080/"
        },
        "id": "7WjDacd9n2kl",
        "outputId": "af6c336c-8592-45f0-a353-6b3cddc8b1b0"
      },
      "execution_count": null,
      "outputs": [
        {
          "output_type": "stream",
          "name": "stdout",
          "text": [
            "['John Doe', 'jane Smith', 'Corey Turner', 'Travis Villiams']\n"
          ]
        }
      ]
    },
    {
      "cell_type": "code",
      "source": [
        "# Q. 학생들의 수학과 영어 점수를 각각의 리스트로 받아 평균 점수를 계산하세요.\n",
        "math_scores = [88, 92, 79, 93, 85]\n",
        "english_scores = [90, 91, 85, 88, 86]\n",
        "\n",
        "ave = [(math + english) / 2 for math, english in zip(math_scores, english_scores)]\n",
        "print(ave)"
      ],
      "metadata": {
        "colab": {
          "base_uri": "https://localhost:8080/"
        },
        "id": "TmM-dysqoe-5",
        "outputId": "98ce5ccb-f70d-4c63-f435-be0de1e61f7e"
      },
      "execution_count": null,
      "outputs": [
        {
          "output_type": "stream",
          "name": "stdout",
          "text": [
            "[89.0, 91.5, 82.0, 90.5, 85.5]\n"
          ]
        }
      ]
    },
    {
      "cell_type": "code",
      "source": [
        "# Q. 상품 이름과 가격이 각각 다른 리스트에 저장되어 있을 때 상품명과 가격을 튜플로 묶어 출력하세요.\n",
        "products = ['apple', 'banana', 'cherry']\n",
        "prices = [1.2, 0.5, 2.5]\n",
        "\n",
        "for product, price in zip(products, prices):\n",
        "    print(f'product : {product}, price : {price}')"
      ],
      "metadata": {
        "colab": {
          "base_uri": "https://localhost:8080/"
        },
        "id": "vFSiLTSGqNsH",
        "outputId": "6d10222c-7af4-4ea9-a62c-36560fb0f06e"
      },
      "execution_count": null,
      "outputs": [
        {
          "output_type": "stream",
          "name": "stdout",
          "text": [
            "product : apple, price : 1.2\n",
            "product : banana, price : 0.5\n",
            "product : cherry, price : 2.5\n"
          ]
        }
      ]
    },
    {
      "cell_type": "markdown",
      "source": [
        "#### 파이썬의 random 모듈\n",
        "난수를 생성하기 위한 다양한 함수를 제공\n",
        "- 기본 난수 생성:\n",
        "  - random.random(): 0과 1 사이의 무작위 부동소수점 숫자를 반환.\n",
        "- 범위 지정 난수 생성:\n",
        "  - random.randint(a, b): a와 b 사이의 무작위 정수를 반환(b 포함).\n",
        "  - random.randrange(start, stop[, step]): 지정된 범위에서 무작위 정수를 반환. step을 설정하여 수의 간격을 조정할 수 있다.\n",
        "- 시퀀스용 함수:\n",
        "  - random.choice(sequence): 주어진 시퀀스(리스트, 튜플 등)에서 무작위로 아이템을 선택하여 반환.\n",
        "  - random.shuffle(x[, random]): 리스트의 항목들을 무작위로 섞는다. random은 섞기를 위한 함수를 커스텀할 때 사용.\n",
        "  - random.sample(population, k): 주어진 시퀀스에서 무작위로 k개의 항목을 뽑아 새 리스트로 반환.\n",
        "- 분포 기반 난수 생성:\n",
        "  - random.uniform(a, b): a와 b 사이의 무작위 부동소수점 숫자를 균등 분포로 반환.\n",
        "  - random.gauss(mu, sigma): 평균 mu와 표준편차 sigma를 가지는 정규 분포에서 난수를 반환."
      ],
      "metadata": {
        "id": "UzFixJT8rvRV"
      }
    },
    {
      "cell_type": "code",
      "source": [
        "import random\n",
        "\n",
        "# 0과 1 사이의 난수 생성\n",
        "print(random.random())\n",
        "\n",
        "# 1에서 10 사이의 정수 반환(10 포함)\n",
        "print(random.randint(1, 10))\n",
        "\n",
        "# 리스트에서 무작위로 하나의 원소 선택\n",
        "items = [1, 2, 3, 4, 5]\n",
        "print(random.choice(items))\n",
        "\n",
        "# 리스트의 원소를 무작위로 섞기\n",
        "random.shuffle(items)\n",
        "print(items)\n",
        "\n",
        "# 정규 분포 난수 생성\n",
        "mean = 0\n",
        "std_dev = 1\n",
        "print(random.gauss(mean, std_dev))"
      ],
      "metadata": {
        "colab": {
          "base_uri": "https://localhost:8080/"
        },
        "id": "44mQ5_pZrxOO",
        "outputId": "3e265768-40c2-43c3-e26d-992bf8909be9"
      },
      "execution_count": null,
      "outputs": [
        {
          "output_type": "stream",
          "name": "stdout",
          "text": [
            "0.828461097480668\n",
            "5\n",
            "4\n",
            "[3, 1, 4, 5, 2]\n",
            "-0.2578711619683319\n"
          ]
        }
      ]
    },
    {
      "cell_type": "code",
      "source": [
        "import random\n",
        "male = ['철수', '갑돌', '로미오', '이몽룡', '온돌']\n",
        "random.shuffle(male)\n",
        "male"
      ],
      "metadata": {
        "colab": {
          "base_uri": "https://localhost:8080/"
        },
        "id": "aunRvSk6vbxG",
        "outputId": "fe6b4aff-b7bc-4e43-f1b9-94af5709e77f"
      },
      "execution_count": null,
      "outputs": [
        {
          "output_type": "execute_result",
          "data": {
            "text/plain": [
              "['갑돌', '온돌', '이몽룡', '로미오', '철수']"
            ]
          },
          "metadata": {},
          "execution_count": 73
        }
      ]
    },
    {
      "cell_type": "code",
      "source": [
        "from random import shuffle\n",
        "male = ['철수', '갑돌', '로미오', '이몽룡', '온돌']\n",
        "shuffle(male)\n",
        "male"
      ],
      "metadata": {
        "colab": {
          "base_uri": "https://localhost:8080/"
        },
        "id": "KiwwfI9gwZyV",
        "outputId": "677ea828-b525-4826-850e-6d18b4110992"
      },
      "execution_count": null,
      "outputs": [
        {
          "output_type": "execute_result",
          "data": {
            "text/plain": [
              "['철수', '갑돌', '로미오', '온돌', '이몽룡']"
            ]
          },
          "metadata": {},
          "execution_count": 72
        }
      ]
    },
    {
      "cell_type": "markdown",
      "source": [
        "Task1_0430. 남녀 파트너 정해주기 프로그램(zip)\n",
        "\n",
        "같은 수의 남녀 모임에서 파트너를 랜덤하게 정해주는 프로그램을 만들어 보세요\n",
        "\n",
        "male = ['철수','갑돌','로미오','이몽룡','온돌']\n",
        "\n",
        "female = ['미미','갑순','줄리엣','성춘향','평강']"
      ],
      "metadata": {
        "id": "zcCN6I7ey6Yo"
      }
    },
    {
      "cell_type": "code",
      "source": [
        "from random import shuffle\n",
        "male = ['철수', '갑돌', '로미오', '이몽룡', '온돌']\n",
        "female = ['미미', '갑순', '줄리엣', '성춘형', '평강']\n",
        "\n",
        "shuffle(male)\n",
        "shuffle(female)\n",
        "\n",
        "team = zip(male, female)\n",
        "print(list(team))"
      ],
      "metadata": {
        "colab": {
          "base_uri": "https://localhost:8080/"
        },
        "id": "9D4s57SmzYp6",
        "outputId": "97ab38e4-6334-4d41-c023-1cfc084a73b1"
      },
      "execution_count": null,
      "outputs": [
        {
          "output_type": "stream",
          "name": "stdout",
          "text": [
            "[('온돌', '미미'), ('로미오', '성춘형'), ('갑돌', '줄리엣'), ('이몽룡', '갑순'), ('철수', '평강')]\n"
          ]
        }
      ]
    },
    {
      "cell_type": "code",
      "source": [
        "from random import shuffle\n",
        "male = ['철수', '갑돌', '로미오', '이몽룡', '온돌']\n",
        "female = ['미미', '갑순', '줄리엣', '성춘형', '평강']\n",
        "\n",
        "shuffle(male)\n",
        "shuffle(female)\n",
        "team = zip(male, female)\n",
        "\n",
        "for i, couple in enumerate(team):\n",
        "    print(f'커플{i+1} : {couple[0]}, {couple[1]}')"
      ],
      "metadata": {
        "colab": {
          "base_uri": "https://localhost:8080/"
        },
        "id": "9Pe5kohHs1-c",
        "outputId": "5bed1409-dbe1-46a7-eda5-90129f1ddd3e"
      },
      "execution_count": 9,
      "outputs": [
        {
          "output_type": "stream",
          "name": "stdout",
          "text": [
            "커플1 : 로미오, 성춘형\n",
            "커플2 : 철수, 갑순\n",
            "커플3 : 이몽룡, 미미\n",
            "커플4 : 온돌, 평강\n",
            "커플5 : 갑돌, 줄리엣\n"
          ]
        }
      ]
    },
    {
      "cell_type": "markdown",
      "source": [
        "zip 함수는 이터레이터를 반환하고 이 이터레이터를 단 한 번만 소비할 수 있음.list() 함수를 사용하여 이터레이터의 모든 원소를 한 번에 소비해 버리면, 그 결과는 빈 이터레이터가 되기 때문에 리스트로 다시 저장한 후 사용해야 됨."
      ],
      "metadata": {
        "id": "pM0PBpmV4NVM"
      }
    },
    {
      "cell_type": "code",
      "source": [
        "from random import shuffle\n",
        "male = ['철수', '갑돌', '로미오', '이몽룡', '온돌']\n",
        "female = ['미미', '갑순', '줄리엣', '성춘형', '평강']\n",
        "\n",
        "shuffle(male)\n",
        "print(male)\n",
        "shuffle(female)\n",
        "print(female)\n",
        "couples = zip(male, female)\n",
        "print(list(couples))\n",
        "\n",
        "couples = zip(male, female)\n",
        "for i, couple in enumerate(couples):\n",
        "  print(f'커플{i+1}: {couple[0]}, {couple[1]}')"
      ],
      "metadata": {
        "colab": {
          "base_uri": "https://localhost:8080/"
        },
        "id": "SXpcocMV40y3",
        "outputId": "43b7fc69-68ed-41fd-80c7-9e5f717024e5"
      },
      "execution_count": 13,
      "outputs": [
        {
          "output_type": "stream",
          "name": "stdout",
          "text": [
            "['로미오', '온돌', '이몽룡', '철수', '갑돌']\n",
            "['줄리엣', '평강', '성춘형', '미미', '갑순']\n",
            "[('로미오', '줄리엣'), ('온돌', '평강'), ('이몽룡', '성춘형'), ('철수', '미미'), ('갑돌', '갑순')]\n",
            "커플1: 로미오, 줄리엣\n",
            "커플2: 온돌, 평강\n",
            "커플3: 이몽룡, 성춘형\n",
            "커플4: 철수, 미미\n",
            "커플5: 갑돌, 갑순\n"
          ]
        }
      ]
    },
    {
      "cell_type": "code",
      "source": [
        "from random import shuffle\n",
        "male = ['철수', '갑돌', '로미오', '이몽룡', '온돌']\n",
        "female = ['미미', '갑순', '줄리엣', '성춘형', '평강']\n",
        "\n",
        "shuffle(male)\n",
        "shuffle(female)\n",
        "team = list(zip(male, female))\n",
        "\n",
        "for i, couple in enumerate(team):\n",
        "    print(f'커플{i+1} : {couple[0]}, {couple[1]}')"
      ],
      "metadata": {
        "colab": {
          "base_uri": "https://localhost:8080/"
        },
        "id": "hspTRYavwEss",
        "outputId": "c9802ed7-28a9-414f-d907-d42b3d34c3f9"
      },
      "execution_count": 10,
      "outputs": [
        {
          "output_type": "stream",
          "name": "stdout",
          "text": [
            "커플1 : 철수, 성춘형\n",
            "커플2 : 갑돌, 미미\n",
            "커플3 : 온돌, 평강\n",
            "커플4 : 로미오, 줄리엣\n",
            "커플5 : 이몽룡, 갑순\n"
          ]
        }
      ]
    },
    {
      "cell_type": "markdown",
      "source": [
        "Task2_0430. 대문자, 소문자, 숫자를 포함하는 8자리 랜덤 비밀번호를 생성하는 프로그램을 작성하세요."
      ],
      "metadata": {
        "id": "S2l3ISO5y8Xr"
      }
    },
    {
      "cell_type": "code",
      "source": [
        "import random\n",
        "def random_password(len):\n",
        "    char = \"abcdefghijklmnopqrstuvwxyzABCDEFGHIJKLMNOPQRSTUVWXYZ0123456789\"\n",
        "    password = ''.join(random.choice(char) for _ in range(len))\n",
        "    return password\n",
        "\n",
        "len = 8\n",
        "ran_pass = random_password(len)\n",
        "print(ran_pass)"
      ],
      "metadata": {
        "colab": {
          "base_uri": "https://localhost:8080/"
        },
        "id": "PVca3RxEzZTE",
        "outputId": "81d3fe41-265f-4274-e52c-e32284ba9786"
      },
      "execution_count": null,
      "outputs": [
        {
          "output_type": "stream",
          "name": "stdout",
          "text": [
            "w42GE24a\n"
          ]
        }
      ]
    },
    {
      "cell_type": "code",
      "source": [
        "import random\n",
        "import string # 문자열 상수를 제공하는 모듈로, 여기서는 알파벳 문자와 숫자를 포함\n",
        "\n",
        "char = string.ascii_letters + string.digits # 모든 소문자와 대문자 알파벳을 포함(a-z, A-Z)\n",
        "password = ''.join(random.choice(char) for i in range(8))\n",
        "print(password)"
      ],
      "metadata": {
        "colab": {
          "base_uri": "https://localhost:8080/"
        },
        "id": "zbkoNPc_wedI",
        "outputId": "d1aa5279-2d5c-475f-a6ca-025fda8de959"
      },
      "execution_count": 11,
      "outputs": [
        {
          "output_type": "stream",
          "name": "stdout",
          "text": [
            "Rd4XEX6Y\n"
          ]
        }
      ]
    },
    {
      "cell_type": "code",
      "source": [
        "# 대문자, 소문자, 숫자를 하나씩 포함되야 하는 경우\n",
        "import random\n",
        "import string # 문자열 상수를 제공하는 모듈로, 여기서는 알파벳 문자와 숫자를 포함\n",
        "\n",
        "upper = random.choice(string.ascii_uppercase)\n",
        "lower = random.choice(string.ascii_lowercase)\n",
        "digit = random.choice(string.digits)\n",
        "\n",
        "\n",
        "char = string.ascii_letters + string.digits # 모든 소문자와 대문자 알파벳을 포함(a-z, A-Z)\n",
        "rest = ''.join(random.choice(char) for i in range(5))\n",
        "# 모든 요소를 하나의 문자열로 합치기\n",
        "password = upper + lower + digit + rest\n",
        "# 비밀번호 임의로 섞기\n",
        "print(password)\n",
        "password = ''.join(random.sample(password, len(password)))  # (선택할 시퀀스, 선택할 요소)\n",
        "print('랜덤 비밀번호 : ', password)"
      ],
      "metadata": {
        "colab": {
          "base_uri": "https://localhost:8080/"
        },
        "id": "FqbX__Fr0p6E",
        "outputId": "c7f5115e-3c05-4e9c-8b74-01123ad56501"
      },
      "execution_count": 1,
      "outputs": [
        {
          "output_type": "stream",
          "name": "stdout",
          "text": [
            "Mx8kxmYo\n",
            "랜덤 비밀번호 :  Mmxxo8Yk\n"
          ]
        }
      ]
    },
    {
      "cell_type": "markdown",
      "source": [
        "Task3_0430. 발표자 수를 랜덤하게 출력하는 프로그램을 작성하세요.(발표자 수 입력)\n",
        "\n",
        "kita = ['김성현','황강민','윤호준','류윤선','이상협','박지환','최환욱','서보선','김한결','김도현','김하준',\n",
        "        '김도원','신현진','소지승','이범석','이현석','이명신','박윤경','이도헌','김홍준']"
      ],
      "metadata": {
        "id": "Fww38GF_y-am"
      }
    },
    {
      "cell_type": "code",
      "source": [
        "import random\n",
        "\n",
        "# 이름이 중복해서 나옴\n",
        "def speaker(len):\n",
        "  kita = ['김성현','황강민','윤호준','류윤선','이상협','박지환','최환욱','서보선','김한결','김도현','김하준', '김도원','신현진','소지승','이범석','이현석','이명신','박윤경','이도헌','김홍준']\n",
        "  spe = ', '.join(random.choice(kita) for _ in range(len))\n",
        "  return spe\n",
        "\n",
        "len = int(input('발표자 수 입력 : '))\n",
        "spe = speaker(len)\n",
        "print(f'발표자 : {spe}')"
      ],
      "metadata": {
        "colab": {
          "base_uri": "https://localhost:8080/"
        },
        "id": "YbN82elFzZ3E",
        "outputId": "e4fdb606-9f66-4fc6-ce2b-bf8f2fa64c4b"
      },
      "execution_count": 13,
      "outputs": [
        {
          "output_type": "stream",
          "name": "stdout",
          "text": [
            "발표자 수 입력 : 4\n",
            "발표자 : 신현진, 김홍준, 황강민, 김홍준\n"
          ]
        }
      ]
    },
    {
      "cell_type": "code",
      "source": [
        "kita = ['김성현','황강민','윤호준','류윤선','이상협','박지환','최환욱','서보선','김한결','김도현','김하준', '김도원','신현진','소지승','이범석','이현석','이명신','박윤경','이도헌','김홍준']\n",
        "len = int(input('발표자 수 입력 : '))\n",
        "ans = random.sample(kita, len) # 중복 없이 요소를 선택\n",
        "print(ans)"
      ],
      "metadata": {
        "colab": {
          "base_uri": "https://localhost:8080/"
        },
        "id": "96tirrfl5PeQ",
        "outputId": "4a8d9b9c-d90a-4696-9e07-9d4843f11277"
      },
      "execution_count": 4,
      "outputs": [
        {
          "output_type": "stream",
          "name": "stdout",
          "text": [
            "발표자 수 입력 : 4\n",
            "['소지승', '이도헌', '서보선', '박지환']\n"
          ]
        }
      ]
    },
    {
      "cell_type": "markdown",
      "source": [
        "Task4_0430. 사용자로부터 숫자를 입력받아 해당 숫자의 구구단을 출력하는 프로그램을 작성하세요."
      ],
      "metadata": {
        "id": "sMklbZDyy_Zn"
      }
    },
    {
      "cell_type": "code",
      "source": [
        "def multiplication_table(x):\n",
        "    count = 0\n",
        "    while count < 9:\n",
        "        count += 1\n",
        "        print(x, 'X', count, '=', x*count)\n",
        "    else :\n",
        "        print('★'* 6)\n",
        "\n",
        "x = int(input('구구단 숫자 입력 : '))\n",
        "multiplication_table(x)"
      ],
      "metadata": {
        "colab": {
          "base_uri": "https://localhost:8080/"
        },
        "id": "lzdY9_tNzahE",
        "outputId": "23987f2e-4e48-4a8d-add8-36a1cd377796"
      },
      "execution_count": 5,
      "outputs": [
        {
          "output_type": "stream",
          "name": "stdout",
          "text": [
            "구구단 숫자 입력 : 3\n",
            "3 X 1 = 3\n",
            "3 X 2 = 6\n",
            "3 X 3 = 9\n",
            "3 X 4 = 12\n",
            "3 X 5 = 15\n",
            "3 X 6 = 18\n",
            "3 X 7 = 21\n",
            "3 X 8 = 24\n",
            "3 X 9 = 27\n",
            "★★★★★★\n"
          ]
        }
      ]
    },
    {
      "cell_type": "code",
      "source": [
        "num = int(input('구구단을 출력할 숫자를 입력하세요 : '))\n",
        "for i in range(1, 10):\n",
        "    print(f'{num} X {i} = {num * i}')"
      ],
      "metadata": {
        "colab": {
          "base_uri": "https://localhost:8080/"
        },
        "id": "jYwI4_Ij6nMi",
        "outputId": "22cb930e-17ce-4926-cdc9-009536f310e2"
      },
      "execution_count": 6,
      "outputs": [
        {
          "output_type": "stream",
          "name": "stdout",
          "text": [
            "구구단을 출력할 숫자를 입력하세요 : 4\n",
            "4 X 1 = 4\n",
            "4 X 2 = 8\n",
            "4 X 3 = 12\n",
            "4 X 4 = 16\n",
            "4 X 5 = 20\n",
            "4 X 6 = 24\n",
            "4 X 7 = 28\n",
            "4 X 8 = 32\n",
            "4 X 9 = 36\n"
          ]
        }
      ]
    },
    {
      "cell_type": "code",
      "source": [
        "for i in range(1, 10):\n",
        "  print(f'{i}단')\n",
        "  for j in range(1, 10):\n",
        "    print(f'{i} X {j} = {i * j}')\n",
        "  print('\\n')"
      ],
      "metadata": {
        "id": "unSBBTrC7Ax9"
      },
      "execution_count": null,
      "outputs": []
    },
    {
      "cell_type": "markdown",
      "source": [
        "f-string내에서 { }안에는 변수 뿐만 아니라 Python 표현식도 올 수 있음."
      ],
      "metadata": {
        "id": "bmeCnZsWFYNE"
      }
    },
    {
      "cell_type": "markdown",
      "source": [
        "표현식(Expression)\n",
        "- 하나 이상의 값, 변수, 연산자, 함수 호출 등을 조합하여 평가(evaluate)될 때 값을 생성하거나 반환하는 코드\n",
        "- 표현식은 계산되어 값이 되는 모든 것을 의미\n",
        "\n",
        "표현식의 예시:\n",
        "- 수치 계산: 2 + 3는 5라는 값을 반환\n",
        "- 문자열 조합: \"Hello \" + \"World\"는 \"Hello World\"라는 문자열을 생성\n",
        "- 논리 연산: x > 5는 x의 값에 따라 True 또는 False를 반환\n",
        "- 함수 호출: sum([1, 2, 3])은 리스트의 합인 6을 반환\n",
        "- 조건식: x if x > 0 else -x는 x가 양수면 x를, 음수면 -x를 반환"
      ],
      "metadata": {
        "id": "hLa6L9fwGbQ4"
      }
    },
    {
      "cell_type": "code",
      "source": [
        "# 각 단의 구구단 결과를 옆으로 출력\n",
        "for i in range(2, 10):  # 2단부터 9단까지\n",
        "    # 각 단의 이름 중간에 출력\n",
        "    print(f\"{' '*5}{i}단{' '*5}\", end = '\\t') # 중간에 각 단의 이름을 출력\n",
        "print()\n",
        "\n",
        "# 구분선 추가\n",
        "for i in range(2, 10):\n",
        "  print('=' * 12, end = '\\t') # 각 단마다 구분선을 출력\n",
        "print()\n",
        "\n",
        "for j in range(1, 10):\n",
        "  for i in range(2, 10):\n",
        "    print(f'{i} X {j} = {i * j}\\t',end = '')\n",
        "  print()"
      ],
      "metadata": {
        "colab": {
          "base_uri": "https://localhost:8080/"
        },
        "id": "eSgPkk-Q9whd",
        "outputId": "e197770e-51ca-4f12-fe6c-3adbb9b3fb32"
      },
      "execution_count": 49,
      "outputs": [
        {
          "output_type": "stream",
          "name": "stdout",
          "text": [
            "     2단     \t     3단     \t     4단     \t     5단     \t     6단     \t     7단     \t     8단     \t     9단     \t\n",
            "============\t============\t============\t============\t============\t============\t============\t============\t\n",
            "2 X 1 = 2\t3 X 1 = 3\t4 X 1 = 4\t5 X 1 = 5\t6 X 1 = 6\t7 X 1 = 7\t8 X 1 = 8\t9 X 1 = 9\t\n",
            "2 X 2 = 4\t3 X 2 = 6\t4 X 2 = 8\t5 X 2 = 10\t6 X 2 = 12\t7 X 2 = 14\t8 X 2 = 16\t9 X 2 = 18\t\n",
            "2 X 3 = 6\t3 X 3 = 9\t4 X 3 = 12\t5 X 3 = 15\t6 X 3 = 18\t7 X 3 = 21\t8 X 3 = 24\t9 X 3 = 27\t\n",
            "2 X 4 = 8\t3 X 4 = 12\t4 X 4 = 16\t5 X 4 = 20\t6 X 4 = 24\t7 X 4 = 28\t8 X 4 = 32\t9 X 4 = 36\t\n",
            "2 X 5 = 10\t3 X 5 = 15\t4 X 5 = 20\t5 X 5 = 25\t6 X 5 = 30\t7 X 5 = 35\t8 X 5 = 40\t9 X 5 = 45\t\n",
            "2 X 6 = 12\t3 X 6 = 18\t4 X 6 = 24\t5 X 6 = 30\t6 X 6 = 36\t7 X 6 = 42\t8 X 6 = 48\t9 X 6 = 54\t\n",
            "2 X 7 = 14\t3 X 7 = 21\t4 X 7 = 28\t5 X 7 = 35\t6 X 7 = 42\t7 X 7 = 49\t8 X 7 = 56\t9 X 7 = 63\t\n",
            "2 X 8 = 16\t3 X 8 = 24\t4 X 8 = 32\t5 X 8 = 40\t6 X 8 = 48\t7 X 8 = 56\t8 X 8 = 64\t9 X 8 = 72\t\n",
            "2 X 9 = 18\t3 X 9 = 27\t4 X 9 = 36\t5 X 9 = 45\t6 X 9 = 54\t7 X 9 = 63\t8 X 9 = 72\t9 X 9 = 81\t\n"
          ]
        }
      ]
    },
    {
      "cell_type": "markdown",
      "source": [
        "Task5_0430. 사용자로부터 숫자를 입력받아 해당 숫자의 팩토리얼을 계산하세요."
      ],
      "metadata": {
        "id": "AGCon3G1zDTo"
      }
    },
    {
      "cell_type": "code",
      "source": [
        "num = int(input('팩토리얼을 계산할 숫자를 입력하세요 : '))\n",
        "factorial = 1\n",
        "for i in range(1, num + 1):\n",
        "  factorial *= i\n",
        "print(f'{num}의 팩토리얼은 {factorial}입니다.')"
      ],
      "metadata": {
        "id": "CicjrvjXzbEg",
        "colab": {
          "base_uri": "https://localhost:8080/"
        },
        "outputId": "6e047b63-c22f-4c29-ad98-5098767f879c"
      },
      "execution_count": 50,
      "outputs": [
        {
          "output_type": "stream",
          "name": "stdout",
          "text": [
            "팩토리얼을 계산할 숫자를 입력하세요 : 4\n",
            "4의 팩토리얼은 24입니다.\n"
          ]
        }
      ]
    },
    {
      "cell_type": "markdown",
      "source": [
        "Task6_0430. 0부터 20까지의 숫자 중에서 짝수와 홀수를 분리하여 두 개의 리스트에 저장하세요."
      ],
      "metadata": {
        "id": "tkx7KuP-zF9D"
      }
    },
    {
      "cell_type": "code",
      "source": [
        "list1 = []\n",
        "list2 = []\n",
        "\n",
        "for i in range(21):\n",
        "    if i % 2 == 0:\n",
        "      list1.append(i)\n",
        "    else :\n",
        "      list2.append(i)\n",
        "else :\n",
        "    print(f'짝수 : {list1}')\n",
        "    print(f'홀수 : {list2}')\n"
      ],
      "metadata": {
        "colab": {
          "base_uri": "https://localhost:8080/"
        },
        "id": "37KSdgjZzbwI",
        "outputId": "04488fb7-0313-4d7e-dbd1-8c0de8a3e472"
      },
      "execution_count": 51,
      "outputs": [
        {
          "output_type": "stream",
          "name": "stdout",
          "text": [
            "짝수 : [0, 2, 4, 6, 8, 10, 12, 14, 16, 18, 20]\n",
            "홀수 : [1, 3, 5, 7, 9, 11, 13, 15, 17, 19]\n"
          ]
        }
      ]
    },
    {
      "cell_type": "markdown",
      "source": [
        "Task7_0430. 주어진 리스트에서 최대값을 찾아 출력하세요."
      ],
      "metadata": {
        "id": "GZVC5jjezLCJ"
      }
    },
    {
      "cell_type": "code",
      "source": [
        "numbers = [34, 78, 2, 45, 99, 23]\n",
        "max = 0\n",
        "\n",
        "for i in numbers:\n",
        "    if max < i:\n",
        "      max = i\n",
        "\n",
        "print(max)"
      ],
      "metadata": {
        "colab": {
          "base_uri": "https://localhost:8080/"
        },
        "id": "BFiwrjjszcR9",
        "outputId": "8df9165a-4f90-47f1-d068-6efed9143ea4"
      },
      "execution_count": 53,
      "outputs": [
        {
          "output_type": "stream",
          "name": "stdout",
          "text": [
            "99\n"
          ]
        }
      ]
    },
    {
      "cell_type": "markdown",
      "source": [
        "Task8_0430.  1부터 10 사이의 임의의 숫자를 맞추는 게임을 만드세요. 사용자가 숫자를 맞출 때까지 입력을 계속 받으며, 정답을 맞추면 게임을 종료하세요. 단, 입력 숫자가 정답보다 큰지 작은지 힌트를 주는 방식으로 코드 작성"
      ],
      "metadata": {
        "id": "NKoqCKsOzODN"
      }
    },
    {
      "cell_type": "code",
      "source": [
        "# random.randint(x, y)\n",
        "import random\n",
        "\n",
        "random_num = random.randint(1, 10)\n",
        "while 1:\n",
        "    num = int(input('1부터 10 사이의 숫자를 입력하세요.'))\n",
        "    if random_num == num:\n",
        "      print(f'{random_num}이 정답 입니다.')\n",
        "      break\n",
        "    elif random_num > num:\n",
        "         print('up')\n",
        "    else :\n",
        "         print('down')"
      ],
      "metadata": {
        "id": "nnP2I0TEzcv3",
        "colab": {
          "base_uri": "https://localhost:8080/"
        },
        "outputId": "d6acd32b-7974-47b0-d60f-3c1a045060d7"
      },
      "execution_count": 8,
      "outputs": [
        {
          "output_type": "stream",
          "name": "stdout",
          "text": [
            "숫자를 입력하세요.4\n",
            "up\n",
            "숫자를 입력하세요.6\n",
            "up\n",
            "숫자를 입력하세요.7\n",
            "up\n",
            "숫자를 입력하세요.9\n",
            "down\n",
            "숫자를 입력하세요.8\n",
            "8이 정답 입니다.\n"
          ]
        }
      ]
    },
    {
      "cell_type": "markdown",
      "source": [
        "Task9_0430. 태어난 연도를 입력받아 띠를 출력하는 프로그램을 작성하세요."
      ],
      "metadata": {
        "id": "lSvgzV1kzRgx"
      }
    },
    {
      "cell_type": "code",
      "source": [
        "birth_year = int(input('태어난 연도를 입력하세요 : '))\n",
        "\n",
        "zodiacs = ['쥐', '소', '호랑이', '토끼', '용', '뱀', '말', '양', '원숭이', '닭', '개', '돼지']\n",
        "\n",
        "zodiac_index = (birth_year - 1924) % 12\n",
        "zodiac = zodiacs[zodiac_index]\n",
        "\n",
        "print(f'{birth_year}년은 {zodiac}띠입니다.')"
      ],
      "metadata": {
        "id": "nkFG31CszdOr",
        "colab": {
          "base_uri": "https://localhost:8080/"
        },
        "outputId": "bb314e69-2a92-4dc5-d63d-133d0117df03"
      },
      "execution_count": 54,
      "outputs": [
        {
          "output_type": "stream",
          "name": "stdout",
          "text": [
            "태어난 연도를 입력하세요 : 2024\n",
            "2024년은 용띠입니다.\n"
          ]
        }
      ]
    },
    {
      "cell_type": "code",
      "source": [
        "y = ['원숭이', '닭', '개', '돼지','쥐', '소', '호랑이', '토끼', '용', '뱀', '말', '양']\n",
        "x = int(input('태어난 연도를 입력하세요 : '))\n",
        "print(f'{y[x%12]}띠입니다.')"
      ],
      "metadata": {
        "colab": {
          "base_uri": "https://localhost:8080/"
        },
        "id": "duj_hjjENOzd",
        "outputId": "0334b4af-d923-4b2e-fb5e-e82353d5ea15"
      },
      "execution_count": 56,
      "outputs": [
        {
          "output_type": "stream",
          "name": "stdout",
          "text": [
            "태어난 연도를 입력하세요 : 1997\n",
            "소띠입니다.\n"
          ]
        }
      ]
    },
    {
      "cell_type": "markdown",
      "source": [
        "Task10_0430. 아래 사항을 반영하여 커피 자판기 프로그램을 작성하세요.\n",
        "- 시나리오 : 자판기 커피 재고 5잔, 커피 1잔 가격 300원, 재고 범위내에서 300원 이상 돈을 넣으면 거스름돈과 커피를 주고 그렇지 않으면 반환하며 재고가 소진되면 안내멘트 출력\n",
        "- 각 Case별 멘트 출력은 상황에 맞게 창작\n",
        "- while, if ~ elif ~ else 제어문을 사용하여 작성"
      ],
      "metadata": {
        "id": "9miZMMtRzTXJ"
      }
    },
    {
      "cell_type": "code",
      "source": [
        "coffee = 5\n",
        "while True:\n",
        "  money = int(input('돈을 주시면 커피를 드립니다.'))\n",
        "  if coffee == 0:\n",
        "      print('커피가 품절이 되었습니다 돈을 다시 반환합니다.')\n",
        "      break\n",
        "  if money == 300:\n",
        "      print('커피를 추출합니다.')\n",
        "      coffee -= 1\n",
        "  elif money > 300:\n",
        "      print('거스름돈 %d원 나왔습니다 커피를 추출합니다.'%(money-300))\n",
        "      coffee -= 1\n",
        "  else :\n",
        "      print('금액이 부족하여 %d원을 반환합니다.'%(money))\n",
        "\n"
      ],
      "metadata": {
        "id": "S1S-I4P7zdr6",
        "colab": {
          "base_uri": "https://localhost:8080/"
        },
        "outputId": "2d883e52-cd33-4ec0-c3e2-c3351a32f941"
      },
      "execution_count": 60,
      "outputs": [
        {
          "output_type": "stream",
          "name": "stdout",
          "text": [
            "돈을 주시면 커피를 드립니다.400\n",
            "거스름돈 100원 나왔습니다 커피를 추출합니다.\n",
            "돈을 주시면 커피를 드립니다.300\n",
            "커피를 추출합니다.\n",
            "돈을 주시면 커피를 드립니다.600\n",
            "거스름돈 300원 나왔습니다 커피를 추출합니다.\n",
            "돈을 주시면 커피를 드립니다.300\n",
            "커피를 추출합니다.\n",
            "돈을 주시면 커피를 드립니다.400\n",
            "거스름돈 100원 나왔습니다 커피를 추출합니다.\n",
            "돈을 주시면 커피를 드립니다.500\n",
            "커피가 품절이 되었습니다 돈을 다시 반환합니다.\n"
          ]
        }
      ]
    },
    {
      "cell_type": "code",
      "source": [
        "# Q. 로또 번호 6개를 6세트 출력하는 코드를 작성하세요.(중복 안됨)\n",
        "# 중복된 번호가 나옴 잘못된 코드\n",
        "import random\n",
        "for i in range(1, 7):\n",
        "  print(f'★{i}세트★')\n",
        "  for _ in range(1, 7):\n",
        "    print(f'{random.randint(1, 45)}번',end = ' ')\n",
        "  print('\\n')"
      ],
      "metadata": {
        "colab": {
          "base_uri": "https://localhost:8080/"
        },
        "id": "WjsqQFYnSpIX",
        "outputId": "93467273-5d4d-45c6-b77f-5477f8f94748"
      },
      "execution_count": 84,
      "outputs": [
        {
          "output_type": "stream",
          "name": "stdout",
          "text": [
            "★1세트★\n",
            "4번 24번 36번 4번 21번 29번 \n",
            "\n",
            "★2세트★\n",
            "12번 9번 15번 28번 32번 12번 \n",
            "\n",
            "★3세트★\n",
            "43번 15번 37번 31번 29번 21번 \n",
            "\n",
            "★4세트★\n",
            "31번 2번 37번 23번 12번 40번 \n",
            "\n",
            "★5세트★\n",
            "14번 25번 5번 18번 3번 16번 \n",
            "\n",
            "★6세트★\n",
            "17번 3번 44번 30번 37번 13번 \n",
            "\n"
          ]
        }
      ]
    },
    {
      "cell_type": "code",
      "source": [
        "import random\n",
        "r = list(range(1,46))\n",
        "print(r)\n",
        "for i in range(6):\n",
        "  lotto = random.sample(r,6)\n",
        "  print(f'★{i+1}세트★')\n",
        "  print(lotto)"
      ],
      "metadata": {
        "colab": {
          "base_uri": "https://localhost:8080/"
        },
        "id": "k9qYJAzqsATZ",
        "outputId": "f0357596-f46e-47c2-ada0-e22e94f7e750"
      },
      "execution_count": 104,
      "outputs": [
        {
          "output_type": "stream",
          "name": "stdout",
          "text": [
            "[1, 2, 3, 4, 5, 6, 7, 8, 9, 10, 11, 12, 13, 14, 15, 16, 17, 18, 19, 20, 21, 22, 23, 24, 25, 26, 27, 28, 29, 30, 31, 32, 33, 34, 35, 36, 37, 38, 39, 40, 41, 42, 43, 44, 45]\n",
            "★1세트★\n",
            "[36, 23, 19, 12, 11, 39]\n",
            "★2세트★\n",
            "[38, 24, 29, 15, 4, 5]\n",
            "★3세트★\n",
            "[10, 17, 26, 12, 40, 5]\n",
            "★4세트★\n",
            "[36, 43, 34, 2, 8, 32]\n",
            "★5세트★\n",
            "[35, 9, 10, 15, 41, 29]\n",
            "★6세트★\n",
            "[16, 42, 28, 20, 3, 24]\n"
          ]
        }
      ]
    },
    {
      "cell_type": "code",
      "source": [
        "# Q. n개 그룹으로 분류하는 코드를 작성하세요. ★★★★★★복습★★★★★★\n",
        "import random\n",
        "kita = ['김성현','황강민','윤호준','류윤선','이상협','박지환','최환욱','서보선','김한결','김도현','김하준', '김도원','신현진','소지승','이범석','이현석','이명신','박윤경','이도헌','김홍준']\n",
        "n = int(input('몇 개의 그룹으로 나누시겠습니까?'))\n",
        "random.shuffle(kita)\n",
        "print(kita)\n",
        "groups = [kita[i::n] for i in range(n)] # kita[i::n] -> i: = i부터 끝까지 :n = 간격\n",
        "print(groups)\n",
        "for idx, group in enumerate(groups):\n",
        "  print(f'그룹 {idx + 1}: {group}')"
      ],
      "metadata": {
        "colab": {
          "base_uri": "https://localhost:8080/"
        },
        "id": "Cg2PR0zvTAKW",
        "outputId": "75203554-78b1-4116-fb20-55d1bd004eff"
      },
      "execution_count": 105,
      "outputs": [
        {
          "output_type": "stream",
          "name": "stdout",
          "text": [
            "몇 개의 그룹으로 나누시겠습니까?4\n",
            "['박윤경', '이상협', '김성현', '신현진', '김도원', '김하준', '서보선', '최환욱', '이명신', '김홍준', '황강민', '김한결', '소지승', '박지환', '이현석', '이범석', '윤호준', '김도현', '류윤선', '이도헌']\n",
            "[['박윤경', '김도원', '이명신', '소지승', '윤호준'], ['이상협', '김하준', '김홍준', '박지환', '김도현'], ['김성현', '서보선', '황강민', '이현석', '류윤선'], ['신현진', '최환욱', '김한결', '이범석', '이도헌']]\n",
            "그룹 1: ['박윤경', '김도원', '이명신', '소지승', '윤호준']\n",
            "그룹 2: ['이상협', '김하준', '김홍준', '박지환', '김도현']\n",
            "그룹 3: ['김성현', '서보선', '황강민', '이현석', '류윤선']\n",
            "그룹 4: ['신현진', '최환욱', '김한결', '이범석', '이도헌']\n"
          ]
        }
      ]
    },
    {
      "cell_type": "code",
      "source": [
        "# Q. 1부터 100까지의 정수중 5에서 95까지의 합을 구하세요.\n",
        "num = 0\n",
        "for i in range(1, 101):\n",
        "  if i % 5 == 0:\n",
        "      num += i\n",
        "  else :\n",
        "      continue\n",
        "print(num)"
      ],
      "metadata": {
        "colab": {
          "base_uri": "https://localhost:8080/"
        },
        "id": "HhhRn0WmTPXl",
        "outputId": "2ff6f11a-fabe-44c8-b398-b7794fad3b07"
      },
      "execution_count": 106,
      "outputs": [
        {
          "output_type": "stream",
          "name": "stdout",
          "text": [
            "1050\n"
          ]
        }
      ]
    },
    {
      "cell_type": "code",
      "source": [
        "sum = 0\n",
        "i = 1\n",
        "while i <= 100:\n",
        "    if i >= 5 and i <= 95:\n",
        "      sum += i\n",
        "    i += 1\n",
        "print(sum)"
      ],
      "metadata": {
        "colab": {
          "base_uri": "https://localhost:8080/"
        },
        "id": "HwxHMolLvFS3",
        "outputId": "e49fa38d-3d63-4643-849f-b59e6496e6b6"
      },
      "execution_count": 107,
      "outputs": [
        {
          "output_type": "stream",
          "name": "stdout",
          "text": [
            "4550\n"
          ]
        }
      ]
    },
    {
      "cell_type": "code",
      "source": [
        "# Q. while문을 사용해 1부터 1000까지의 정수 중 3과 5의 공배수의 합을 구해 보세요."
      ],
      "metadata": {
        "id": "XfFFLPvMTWID"
      },
      "execution_count": null,
      "outputs": []
    },
    {
      "cell_type": "code",
      "source": [
        "num = 0\n",
        "count = 1\n",
        "while True:\n",
        "  if count <= 1000:\n",
        "      print(num)\n",
        "      break\n",
        "  elif num % 3 == 0 and num % 5 ==0:\n",
        "      num += count\n",
        "  count += 1\n",
        ""
      ],
      "metadata": {
        "colab": {
          "base_uri": "https://localhost:8080/"
        },
        "id": "aVOYt5b-ahZ1",
        "outputId": "5860a62a-688d-4321-a6c8-82ca32f4c84b"
      },
      "execution_count": 114,
      "outputs": [
        {
          "output_type": "stream",
          "name": "stdout",
          "text": [
            "0\n"
          ]
        }
      ]
    },
    {
      "cell_type": "code",
      "source": [
        "i = 1\n",
        "sum = 0\n",
        "while i <= 1000:\n",
        "    if i % 3 == 0 and i % 5 == 0:\n",
        "        sum += i\n",
        "    i += 1\n",
        "print(sum)"
      ],
      "metadata": {
        "colab": {
          "base_uri": "https://localhost:8080/"
        },
        "id": "l65JdMc7wO6G",
        "outputId": "9ab2d7be-8666-4d28-d11a-68b0f627fe78"
      },
      "execution_count": 109,
      "outputs": [
        {
          "output_type": "stream",
          "name": "stdout",
          "text": [
            "33165\n"
          ]
        }
      ]
    },
    {
      "cell_type": "code",
      "source": [
        "# Q. 현재 시각을 오전과 오후로 구분하는 프로그램을 작성하세요.\n",
        "import datetime\n",
        "now = datetime.datetime.now()\n",
        "now_time = now.hour\n",
        "now_time"
      ],
      "metadata": {
        "colab": {
          "base_uri": "https://localhost:8080/"
        },
        "id": "y4qs3pGcTcPt",
        "outputId": "c9338c0c-92b5-4e4c-d5a2-ecc0ea3bc1e6"
      },
      "execution_count": 81,
      "outputs": [
        {
          "output_type": "execute_result",
          "data": {
            "text/plain": [
              "3"
            ]
          },
          "metadata": {},
          "execution_count": 81
        }
      ]
    },
    {
      "cell_type": "code",
      "source": [
        "# Q. 현재 시각을 오전과 오후로 구분하는 프로그램을 작성하세요.\n",
        "import datetime\n",
        "import pytz\n",
        "tz = pytz.timezone('Asia/Seoul')\n",
        "now = datetime.datetime.now(tz)\n",
        "now_time = now.hour\n",
        "now_time  # 현재 시각\n",
        "if now_time >= 12:\n",
        "    print('오후입니다.')\n",
        "else :\n",
        "    print('오전입니다.')"
      ],
      "metadata": {
        "colab": {
          "base_uri": "https://localhost:8080/"
        },
        "id": "fTAwwZNYxo4u",
        "outputId": "cc398d1c-7853-4f58-b0c5-fdf310e909f7"
      },
      "execution_count": 170,
      "outputs": [
        {
          "output_type": "stream",
          "name": "stdout",
          "text": [
            "오후입니다.\n"
          ]
        }
      ]
    },
    {
      "cell_type": "code",
      "source": [
        "# 다양한 오류 입력에 대한 해결 방안 추가 필요\n",
        "time = input('현재 시간을 입력하세요(ex. 15시 30분, 15시):')\n",
        "\n",
        "if '시' not in time:\n",
        "  print('형식에 맞춰 작성해 주세요.')\n",
        "elif int(time.split('시')[0]) >= 0 and int(time.split('시')[0]) <12:\n",
        "    print('오전 입니다.')\n",
        "elif int(time.split('시')[0]) >= 12 and int(time.split('시')[0]) <24:\n",
        "    print('오후 입니다.')\n",
        "else:\n",
        "    print('시간을 다시 입력해 주세요.')"
      ],
      "metadata": {
        "colab": {
          "base_uri": "https://localhost:8080/"
        },
        "id": "zR3k-XkwyuQ0",
        "outputId": "2482aee4-5196-4217-95ed-9d42086de02d"
      },
      "execution_count": 126,
      "outputs": [
        {
          "output_type": "stream",
          "name": "stdout",
          "text": [
            "현재 시간을 입력하세요(ex. 15시 30분, 15시):22시\n",
            "오후 입니다.\n"
          ]
        }
      ]
    },
    {
      "cell_type": "markdown",
      "source": [
        "pop 함수\n",
        "- 리스트와 같은 자료 구조에서 주로 사용되는 함수\n",
        "- 이 함수는 특정 인덱스에 위치한 요소를 리스트에서 제거하고 해당 요소를 반환"
      ],
      "metadata": {
        "id": "hTSeASqU2PkL"
      }
    },
    {
      "cell_type": "code",
      "source": [
        "fruits = ['apple', 'banana', 'cherry', 'data']\n",
        "\n",
        "# 인덱스 2의 요소 (cherry)를 제거하고 반환\n",
        "removed_fruit = fruits.pop(2)\n",
        "print(removed_fruit)\n",
        "print(fruits)\n",
        "\n",
        "# 리스트의 마지막 요소 (date)를 제거하고 반환\n",
        "last_fruit = fruits.pop()\n",
        "print(last_fruit)\n",
        "print(fruits)"
      ],
      "metadata": {
        "colab": {
          "base_uri": "https://localhost:8080/"
        },
        "id": "hHEsRM912hFZ",
        "outputId": "af3b32d9-4db7-4f09-c70e-f6b08fc04491"
      },
      "execution_count": 128,
      "outputs": [
        {
          "output_type": "stream",
          "name": "stdout",
          "text": [
            "cherry\n",
            "['apple', 'banana', 'data']\n",
            "data\n",
            "['apple', 'banana']\n"
          ]
        }
      ]
    },
    {
      "cell_type": "code",
      "source": [
        "# Q. 가위 바위 보 게임을 코딩을 프로그래밍하세요.\n",
        "import random\n",
        "\n",
        "com_hand = ['가위', '바위', '보']\n",
        "hand = {'가위': '가위', '바위':'바위', '보':'보'}\n",
        "\n",
        "my_hand = input('가위 바위 보 : ')\n",
        "\n",
        "com = random.choice(com_hand)\n",
        "print(f'컴퓨터는 {com}을(를) 냈습니다.')\n",
        "if com == hand['가위'] and my_hand == hand['바위']:\n",
        "      print('당신이 이겼습니다.')\n",
        "elif com == hand['가위'] and my_hand ==hand['가위']:\n",
        "      print('비겼습니다.')\n",
        "elif com == hand['가위'] and my_hand == hand['보']:\n",
        "      print('당신이 졌습니다.')\n",
        "\n",
        "print(f'컴퓨터는 {com}을(를) 냈습니다.')\n",
        "if com == hand['바위'] and my_hand == hand['보']:\n",
        "      print('당신이 이겼습니다.')\n",
        "elif com == hand['바위'] and my_hand ==hand['바위']:\n",
        "      print('비겼습니다.')\n",
        "elif com == hand['바위'] and my_hand == hand['가위']:\n",
        "      print('당신이 졌습니다.')\n",
        "\n",
        "print(f'컴퓨터는 {com}을(를) 냈습니다.')\n",
        "if com == hand['보'] and my_hand == hand['가위']:\n",
        "      print('당신이 이겼습니다.')\n",
        "elif com == hand['보'] and my_hand ==hand['보']:\n",
        "      print('비겼습니다.')\n",
        "elif com == hand['보'] and my_hand == hand['바위']:\n",
        "      print('당신이 졌습니다.')"
      ],
      "metadata": {
        "id": "T8hjxCOg7y1t"
      },
      "execution_count": null,
      "outputs": []
    },
    {
      "cell_type": "code",
      "source": [
        "import random\n",
        "\n",
        "cpu = ['가위', '바위', '보']\n",
        "\n",
        "win = [('가위','바위'),('바위','보'),('보','가위')]\n",
        "\n",
        "while 1:\n",
        "    cpu_select = random.choice(cpu)\n",
        "    human = input(\"무엇을 내시겠습니까? :\")\n",
        "    if cpu_select == human:\n",
        "        print(\"비겼습니다.\")\n",
        "    elif (cpu_select, human) in win:\n",
        "        print(\"이겼습니다.\")\n",
        "    else:\n",
        "        print(\"졌습니다.\")"
      ],
      "metadata": {
        "id": "k2jU2fKQB1Vc"
      },
      "execution_count": null,
      "outputs": []
    },
    {
      "cell_type": "code",
      "source": [
        "import random\n",
        "\n",
        "com_hand = ['가위', '바위', '보']\n",
        "win_case = {'가위': '바위', '바위': '보', '보': '가위'}\n",
        "win_num = 0\n",
        "\n",
        "print('가위 바위 보 게임을 시작합니다. (3승 시 종료)')\n",
        "print('주의 : 오타는 패배로 간주됩니다.')\n",
        "while True:\n",
        "    com_select = com_hand[random.randint(0,2)]\n",
        "    you_select = input('가위 바위 보 !!')\n",
        "    print(f'컴퓨터는 {com_select}입니다.')\n",
        "    if win_case[com_select] == you_select:\n",
        "        win_num += 1\n",
        "        print(f'이겼습니다. 현재 {win_num}승 입니다.')\n",
        "    else :\n",
        "      if com_select == you_select:\n",
        "          print('비겼습니다.')\n",
        "      else :\n",
        "        print('졌습니다.')\n",
        "    if win_num == 3:\n",
        "        print('3승을 달성해서 게임을 종료합니다.')\n",
        "        break"
      ],
      "metadata": {
        "colab": {
          "base_uri": "https://localhost:8080/"
        },
        "id": "36nXQNP_CzBO",
        "outputId": "b484593d-7625-437f-f2d3-86de6955255f"
      },
      "execution_count": 159,
      "outputs": [
        {
          "output_type": "stream",
          "name": "stdout",
          "text": [
            "가위 바위 보 게임을 시작합니다. (3승 시 종료)\n",
            "주의 : 오타는 패배로 간주됩니다.\n",
            "가위 바위 보 !!바위\n",
            "컴퓨터는 보입니다.\n",
            "졌습니다.\n",
            "가위 바위 보 !!가위\n",
            "컴퓨터는 보입니다.\n",
            "이겼습니다. 현재 1승 입니다.\n",
            "가위 바위 보 !!가위\n",
            "컴퓨터는 가위입니다.\n",
            "비겼습니다.\n",
            "가위 바위 보 !!바위\n",
            "컴퓨터는 가위입니다.\n",
            "이겼습니다. 현재 2승 입니다.\n",
            "가위 바위 보 !!바위\n",
            "컴퓨터는 가위입니다.\n",
            "이겼습니다. 현재 3승 입니다.\n",
            "3승을 달성해서 게임을 종료합니다.\n"
          ]
        }
      ]
    },
    {
      "cell_type": "markdown",
      "source": [
        "Task1_0502. 짝수와 짝수를 입력하면 곱한 값을 출력하고 홀수와 홀수를 입력하면 덧셈 값을 출력하고 그외는 다시 입력하라는 메시지를 출력하세요."
      ],
      "metadata": {
        "id": "I3t42ttT1-VN"
      }
    },
    {
      "cell_type": "code",
      "source": [
        "while True:\n",
        "  num1 = int(input('숫자를 입력하세요.'))\n",
        "  num2 = int(input('숫자를 입력하세요.'))\n",
        "\n",
        "  if num1 % 2 == 0 and num2 % 2 == 0:\n",
        "      print(f'{num1} X {num2} = {num1 * num2}')\n",
        "      break\n",
        "  elif num1 % 2 != 0 and num2 % 2 != 0:\n",
        "      print(f'{num1} + {num2} = {num1 + num2}')\n",
        "      break\n",
        "  else :\n",
        "      print('다시 입력하세요.')"
      ],
      "metadata": {
        "colab": {
          "base_uri": "https://localhost:8080/"
        },
        "id": "7teKLQFMH5VA",
        "outputId": "c4de8164-a7e4-45d1-f648-dde951107f73"
      },
      "execution_count": 161,
      "outputs": [
        {
          "output_type": "stream",
          "name": "stdout",
          "text": [
            "숫자를 입력하세요.1\n",
            "숫자를 입력하세요.2\n",
            "다시 입력하세요.\n",
            "숫자를 입력하세요.1\n",
            "숫자를 입력하세요.3\n",
            "1 + 3 = 4\n"
          ]
        }
      ]
    },
    {
      "cell_type": "markdown",
      "source": [
        "Task2_0502. 현재 계절 구분 프로그램\n",
        "- 시나리오 : 3 ~ 5월은 봄, 6 ~ 8월은 여름, 9 ~ 11월은 가을, 12 ~ 2월은 겨울로 구분. 지금 계절을 알려주는 프로그램\n",
        "- 각 계절별 출력 멘트는 계절에 맞게 창작\n",
        "- if 조건문으로 datetime 모듈을 import해서 datetime.now 함수를 사용해서 작성"
      ],
      "metadata": {
        "id": "NQ24g5SF5baS"
      }
    },
    {
      "cell_type": "code",
      "source": [
        "import datetime\n",
        "\n",
        "now = datetime.datetime.now()\n",
        "mon = now.month\n",
        "\n",
        "sp = [3, 4, 5]\n",
        "sm = [6, 7, 8]\n",
        "fall = [9, 10, 11]\n",
        "win = [12, 1, 2]\n",
        "\n",
        "if mon in sp:\n",
        "    print('황사 조심')\n",
        "elif mon in sm:\n",
        "    print('더위 조심')\n",
        "elif mon in fall:\n",
        "    print('낙엽 조심')\n",
        "else :\n",
        "    print('추위 조심')"
      ],
      "metadata": {
        "colab": {
          "base_uri": "https://localhost:8080/"
        },
        "id": "61moevn1JnpF",
        "outputId": "c5fcef23-7d9b-49ef-9ef2-742e9b85c8ba"
      },
      "execution_count": 177,
      "outputs": [
        {
          "output_type": "stream",
          "name": "stdout",
          "text": [
            "황사 조심\n"
          ]
        }
      ]
    },
    {
      "cell_type": "markdown",
      "source": [
        "Task3_0502. 1부터 99까지 아래와 같이 2개의 수를 곱해서 가장 큰 수를 구하세요.\n",
        "\n",
        "`1*99, 2*98 ...99*1`"
      ],
      "metadata": {
        "id": "wkgvPBbm5yC6"
      }
    },
    {
      "cell_type": "code",
      "source": [
        "num1 = 0\n",
        "num2 = 100\n",
        "count = 100\n",
        "max = num1 * num2\n",
        "for i in range(count):\n",
        "  num1 += 1\n",
        "  num2 -= 1\n",
        "  number = num1 * num2\n",
        "  if number > max:\n",
        "      max = number\n",
        "      number1 = num1\n",
        "      number2 = num2\n",
        "print(f'{number1} x {number2} = {max}')"
      ],
      "metadata": {
        "colab": {
          "base_uri": "https://localhost:8080/"
        },
        "id": "-VFnhleuO6Rh",
        "outputId": "dd818fe8-209e-4c48-ea65-172d245eb4df"
      },
      "execution_count": 3,
      "outputs": [
        {
          "output_type": "stream",
          "name": "stdout",
          "text": [
            "50 x 50 = 2500\n"
          ]
        }
      ]
    },
    {
      "cell_type": "markdown",
      "source": [
        "Task4_0502. [    ]을 채워서 아래의 출력과 같이 출력하세요."
      ],
      "metadata": {
        "id": "cPaPngS76BM1"
      }
    },
    {
      "cell_type": "code",
      "source": [
        "numbers = [1,2,3,4,5,6,7,8,9]\n",
        "output = [[], [], []]\n",
        "\n",
        "output = [numbers[i::3] for i in range(3)]\n",
        "print(output)\n",
        "# [[1,4,7],[2,5,8],[3,6,9]]"
      ],
      "metadata": {
        "colab": {
          "base_uri": "https://localhost:8080/"
        },
        "id": "6kOSiW4c6G-x",
        "outputId": "2a426c29-c4d1-4898-937b-c1c5f8b3b789"
      },
      "execution_count": 2,
      "outputs": [
        {
          "output_type": "stream",
          "name": "stdout",
          "text": [
            "[[1, 4, 7], [2, 5, 8], [3, 6, 9]]\n"
          ]
        }
      ]
    },
    {
      "cell_type": "markdown",
      "source": [
        "Task5_0502. 주어진 리스트에서 중복된 요소를 제거하고, 남은 요소만을 포함하는 새 리스트를 반환합니다. 순서는 유지해야 합니다."
      ],
      "metadata": {
        "id": "Fi5OFgND6Xyd"
      }
    },
    {
      "cell_type": "code",
      "source": [
        "input_list = [1, 2, 2, 3, 4, 4, 4, 5, 6, 7, 7]\n",
        "list1 = [input_list[0]]\n",
        "for i in input_list:\n",
        "    if i == list1[-1]:\n",
        "      continue\n",
        "    else :\n",
        "      list1.append(i)\n",
        "print(list1)"
      ],
      "metadata": {
        "colab": {
          "base_uri": "https://localhost:8080/"
        },
        "id": "CSVVFsmC6XP1",
        "outputId": "44b01567-8432-45f5-bf9c-82b8442e97be"
      },
      "execution_count": 5,
      "outputs": [
        {
          "output_type": "stream",
          "name": "stdout",
          "text": [
            "[1, 2, 3, 4, 5, 6, 7]\n"
          ]
        }
      ]
    },
    {
      "cell_type": "markdown",
      "source": [
        "task6_0502. 주어진 문자열을 모스 코드로 변환하는 함수를 작성하세요. 공백은 무시하고 알파벳만 변환하세요.\n",
        "input_text = 'Hello World'"
      ],
      "metadata": {
        "id": "pz4jYbX06wi_"
      }
    },
    {
      "cell_type": "code",
      "source": [
        "morse_code = {\n",
        "        'A': '.-', 'B': '-...', 'C': '-.-.', 'D': '-..', 'E': '.', 'F': '..-.',\n",
        "        'G': '--.', 'H': '....', 'I': '..', 'J': '.---', 'K': '-.-', 'L': '.-..',\n",
        "        'M': '--', 'N': '-.', 'O': '---', 'P': '.--.', 'Q': '--.-', 'R': '.-.',\n",
        "        'S': '...', 'T': '-', 'U': '..-', 'V': '...-', 'W': '.--', 'X': '-..-',\n",
        "        'Y': '-.--', 'Z': '--..'\n",
        "    }"
      ],
      "metadata": {
        "id": "MgM0Ak2q63fa"
      },
      "execution_count": null,
      "outputs": []
    },
    {
      "cell_type": "markdown",
      "source": [
        "Task7_0502. 주어진 비대칭 m×n 매트릭스(2차원 리스트)에서, 모든 대각선 상의 합을 계산하는 함수를 작성하세요. 결과는 각 대각선의 합을 리스트로 반환해야 합니다."
      ],
      "metadata": {
        "id": "L3PQG1wf7Ibw"
      }
    },
    {
      "cell_type": "code",
      "source": [
        "input_matrix = [\n",
        "    [1, 2, 3],\n",
        "    [4, 5, 6],\n",
        "    [7, 8, 9],\n",
        "    [10, 11, 12]\n",
        "]"
      ],
      "metadata": {
        "id": "xmezI8e47Rms"
      },
      "execution_count": null,
      "outputs": []
    }
  ]
}